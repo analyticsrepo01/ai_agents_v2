{
 "cells": [
  {
   "cell_type": "code",
   "execution_count": 1,
   "id": "f84601bc-1b91-4e59-8be3-efbdb45c73c9",
   "metadata": {
    "scrolled": true,
    "tags": []
   },
   "outputs": [],
   "source": [
    "# !conda create -n crewai python=3.11\n",
    "# !conda activate crewai -\n",
    "# %pip install -U 'crewai[tools]' mdpdf \n"
   ]
  },
  {
   "cell_type": "code",
   "execution_count": 2,
   "id": "119d2242-ee6c-4d7d-b8a2-564713b0fe98",
   "metadata": {
    "tags": []
   },
   "outputs": [],
   "source": [
    "import re\n",
    "\n",
    "PROJECT_ID = !(gcloud config get-value core/project)\n",
    "PROJECT_ID = PROJECT_ID[0]\n",
    "\n",
    "SVC_ACC = !(gcloud config get-value core/account)\n",
    "SVC_ACC = SVC_ACC[0]\n",
    "\n",
    "PROJECT_NUMBER=str(re.search(r'\\d+', SVC_ACC).group())\n",
    "\n",
    "LOCATION=\"asia-southeast1\"\n",
    "\n",
    "FOLDER_NAME=\".\""
   ]
  },
  {
   "cell_type": "code",
   "execution_count": 3,
   "id": "5b43d9f4-b0d7-4fb6-91ae-75e17f9f9aab",
   "metadata": {},
   "outputs": [
    {
     "name": "stdout",
     "output_type": "stream",
     "text": [
      "sagemaker.config INFO - Not applying SDK defaults from location: /etc/xdg/sagemaker/config.yaml\n",
      "sagemaker.config INFO - Not applying SDK defaults from location: /home/jupyter/.config/sagemaker/config.yaml\n"
     ]
    },
    {
     "name": "stderr",
     "output_type": "stream",
     "text": [
      "/opt/conda/envs/pytorch/lib/python3.10/site-packages/langchain_community/tools/ddg_search/__init__.py:3: LangChainDeprecationWarning: As of langchain-core 0.3.0, LangChain uses pydantic v2 internally. The langchain_core.pydantic_v1 module was a compatibility shim for pydantic v1, and should no longer be used. Please update the code to import from Pydantic directly.\n",
      "\n",
      "For example, replace imports like: `from langchain_core.pydantic_v1 import BaseModel`\n",
      "with: `from pydantic import BaseModel`\n",
      "or the v1 compatibility namespace if you are working in a code base that has not been fully upgraded to pydantic 2 yet. \tfrom pydantic.v1 import BaseModel\n",
      "\n",
      "  from langchain_community.tools.ddg_search.tool import DuckDuckGoSearchRun\n"
     ]
    }
   ],
   "source": [
    "from crewai import Agent, Task, Crew, Process\n",
    "from crewai_tools import tool\n",
    "from crewai_tools.tools import FileReadTool\n",
    "import os, requests, re, mdpdf, subprocess\n",
    "\n",
    "from langchain_community.vectorstores import Chroma\n",
    "from langchain_community.tools import DuckDuckGoSearchRun"
   ]
  },
  {
   "cell_type": "code",
   "execution_count": 4,
   "id": "c7700b68-b1fb-486e-bfe7-160c34f4a257",
   "metadata": {
    "scrolled": true,
    "tags": []
   },
   "outputs": [
    {
     "name": "stdout",
     "output_type": "stream",
     "text": [
      "Note: you may need to restart the kernel to use updated packages.\n",
      "Requirement already satisfied: mdpdf in /opt/conda/envs/pytorch/lib/python3.10/site-packages (0.0.18)\n",
      "Requirement already satisfied: pymupdf>=1.21 in /home/jupyter/.local/lib/python3.10/site-packages (from mdpdf) (1.23.18)\n",
      "Requirement already satisfied: commonmark>=0.9 in /opt/conda/envs/pytorch/lib/python3.10/site-packages (from mdpdf) (0.9.1)\n",
      "Requirement already satisfied: click>=7.1 in /opt/conda/envs/pytorch/lib/python3.10/site-packages (from mdpdf) (8.1.7)\n",
      "Requirement already satisfied: PyMuPDFb==1.23.9 in /home/jupyter/.local/lib/python3.10/site-packages (from pymupdf>=1.21->mdpdf) (1.23.9)\n",
      "Note: you may need to restart the kernel to use updated packages.\n"
     ]
    }
   ],
   "source": [
    "%pip install --upgrade --quiet  langchain-core langchain-google-vertexai\n",
    "%pip install mdpdf"
   ]
  },
  {
   "cell_type": "code",
   "execution_count": 5,
   "id": "73e40634-b4b2-4d76-9f6f-d62cc192205c",
   "metadata": {
    "tags": []
   },
   "outputs": [],
   "source": [
    "# ! mdpdf -o output.pdf story.md"
   ]
  },
  {
   "cell_type": "code",
   "execution_count": 6,
   "id": "62b70eab-2083-4809-95bc-4f1fd30745a6",
   "metadata": {
    "tags": []
   },
   "outputs": [],
   "source": [
    "import vertexai\n",
    "from vertexai.preview.vision_models import ImageGenerationModel\n",
    "\n",
    "# TODO(developer): Update and un-comment below lines\n",
    "# PROJECT_ID = \"your-project-id\"\n",
    "# output_file = \"input-image.png\"\n",
    "# prompt = \"\" # The text prompt describing what you want to see.\n",
    "\n",
    "vertexai.init(project=PROJECT_ID, location=\"us-central1\")\n",
    "\n",
    "model = ImageGenerationModel.from_pretrained(\"imagen-3.0-generate-001\")\n"
   ]
  },
  {
   "cell_type": "code",
   "execution_count": 7,
   "id": "6464a6bd-4ce4-48ce-af60-63082dbf3613",
   "metadata": {
    "tags": []
   },
   "outputs": [
    {
     "ename": "NameError",
     "evalue": "name 'ChatVertexAI' is not defined",
     "output_type": "error",
     "traceback": [
      "\u001b[0;31m---------------------------------------------------------------------------\u001b[0m",
      "\u001b[0;31mNameError\u001b[0m                                 Traceback (most recent call last)",
      "Cell \u001b[0;32mIn[7], line 17\u001b[0m\n\u001b[1;32m     14\u001b[0m \u001b[38;5;28;01mimport\u001b[39;00m \u001b[38;5;21;01muuid\u001b[39;00m\u001b[38;5;241m,\u001b[39m \u001b[38;5;21;01mos\u001b[39;00m\n\u001b[1;32m     16\u001b[0m \u001b[38;5;66;03m# Initialize Gemini LLM\u001b[39;00m\n\u001b[0;32m---> 17\u001b[0m llm \u001b[38;5;241m=\u001b[39m \u001b[43mChatVertexAI\u001b[49m(\n\u001b[1;32m     18\u001b[0m     model_name\u001b[38;5;241m=\u001b[39m\u001b[38;5;124m'\u001b[39m\u001b[38;5;124mgemini-1.5-pro-preview-0514\u001b[39m\u001b[38;5;124m'\u001b[39m, \u001b[38;5;66;03m#\"gemini-1.0-pro-002\", # Replace with your desired Gemini model\u001b[39;00m\n\u001b[1;32m     19\u001b[0m     project_id\u001b[38;5;241m=\u001b[39mos\u001b[38;5;241m.\u001b[39mgetenv(PROJECT_ID), \u001b[38;5;66;03m# Your Vertex AI project ID\u001b[39;00m\n\u001b[1;32m     20\u001b[0m     location\u001b[38;5;241m=\u001b[39m\u001b[38;5;124m\"\u001b[39m\u001b[38;5;124mus-central1\u001b[39m\u001b[38;5;124m\"\u001b[39m, \u001b[38;5;66;03m# Your Vertex AI location\u001b[39;00m\n\u001b[1;32m     21\u001b[0m )\n\u001b[1;32m     23\u001b[0m \u001b[38;5;66;03m# Initialize Imagen model\u001b[39;00m\n\u001b[1;32m     25\u001b[0m \u001b[38;5;129m@tool\u001b[39m\n\u001b[1;32m     26\u001b[0m \u001b[38;5;28;01mdef\u001b[39;00m \u001b[38;5;21mgenerateimage\u001b[39m(chapter_content_and_character_details: \u001b[38;5;28mstr\u001b[39m) \u001b[38;5;241m-\u001b[39m\u001b[38;5;241m>\u001b[39m \u001b[38;5;28mstr\u001b[39m:\n",
      "\u001b[0;31mNameError\u001b[0m: name 'ChatVertexAI' is not defined"
     ]
    }
   ],
   "source": [
    "from crewai import Agent, Task, Crew, Process\n",
    "from crewai_tools import tool\n",
    "# from langchain_vertexai import ChatGemini\n",
    "from crewai_tools.tools import FileReadTool\n",
    "import os, requests, re, mdpdf, subprocess\n",
    "from vertexai.preview.vision_models import ImageGenerationModel\n",
    "from langchain_google_vertexai import ChatVertexAI\n",
    "\n",
    "from langchain_google_vertexai import VertexAI\n",
    "\n",
    "# To use model\n",
    "model = VertexAI(model_name=\"gemini-pro\")\n",
    "\n",
    "import uuid, os\n",
    "\n",
    "# Initialize Gemini LLM\n",
    "llm = ChatVertexAI(\n",
    "    model_name='gemini-1.5-pro-preview-0514', #\"gemini-1.0-pro-002\", # Replace with your desired Gemini model\n",
    "    project_id=os.getenv(PROJECT_ID), # Your Vertex AI project ID\n",
    "    location=\"us-central1\", # Your Vertex AI location\n",
    ")\n",
    "\n",
    "# Initialize Imagen model\n",
    "\n",
    "@tool\n",
    "def generateimage(chapter_content_and_character_details: str) -> str:\n",
    "    \"\"\"\n",
    "    Generates an image using Imagen for a given chapter content and character details and return the image_url.\n",
    "    \"\"\"\n",
    "    image_generation_model = ImageGenerationModel.from_pretrained(\"imagegeneration@006\")\n",
    "\n",
    "    chapter_content_and_character_details_refined = generate_pro(chapter_content_and_character_details)\n",
    "    \n",
    "    prompt = f\"Image is about: {chapter_content_and_character_details_refined}. Style: Illustration. Create an illustration incorporating a vivid palette with an emphasis on shades of azure and emerald, augmented by splashes of gold for contrast and visual interest. The style should evoke the intricate detail and whimsy of early 20th-century storybook illustrations, blending realism with fantastical elements to create a sense of wonder and enchantment. The composition should be rich in texture, with a soft, luminous lighting that enhances the magical atmosphere. Attention to the interplay of light and shadow will add depth and dimensionality, inviting the viewer to delve into the scene. DON'T include ANY text in this image. DON'T include colour palettes in this image.\"\n",
    "\n",
    "    response = image_generation_model.generate_images(\n",
    "        prompt=prompt,\n",
    "        aspect_ratio=\"1:1\",\n",
    "        number_of_images=1,\n",
    "        safety_filter_level=\"block_few\",\n",
    "        person_generation=\"allow_adult\",\n",
    "    )\n",
    "    \n",
    "    # image_url = response.images[0].url\n",
    "    image_url_name = str(uuid.uuid4())\n",
    "    \n",
    "    filepath = os.path.join(os.getcwd(), \"images1/\")\n",
    "\n",
    "    image_url = filepath+image_url_name+\".jpg\"\n",
    "    response.images[0].save(location=image_url)\n",
    "    print(\"url\",image_url)\n",
    "\n",
    "    return(image_url)"
   ]
  },
  {
   "cell_type": "code",
   "execution_count": null,
   "id": "687592e6-3a3e-4659-8912-5182e72d5945",
   "metadata": {
    "tags": []
   },
   "outputs": [],
   "source": [
    "import vertexai\n",
    "from vertexai.preview.generative_models import GenerativeModel, Part\n",
    "\n",
    "\n",
    "\n",
    "def generate_pro(input_prompt):\n",
    "    model = GenerativeModel(\"gemini-1.5-pro-preview-0514\") #gemini-1.0-pro-002\") #gemini-1.5-pro-preview-0409\n",
    "    full_prompt = '''summarize the prompt below and do note prompt below will be send to imagen model to create images  so please clean up any sensitve words and replace them into unblocked words like replace girl or lady can be replaced by female human and remove any names to make the prompt simple and easy  : ''' + input_prompt\n",
    "    responses = model.generate_content(\n",
    "    input_prompt,\n",
    "    generation_config={\n",
    "        \"max_output_tokens\": 1024,\n",
    "        \"temperature\": 0.2,\n",
    "        \"top_p\": 1\n",
    "    },stream=False,)\n",
    "    \n",
    "    # print (responses.text)\n",
    "    \n",
    "    return(responses.text)\n",
    "\n",
    "\n",
    "# input_prompt = '''\n",
    "# Action 'generateimage(chapter_content_and_character_details={'chapter_content': 'Panic ensued in the animal kingdom as Professor Hoot, the wise old owl, was called upon to investigate. The mystery deepened as they searched for clues to unravel the enigma of Zeke's missing stripes.', 'character_details': 'Professor Hoot is a wise old owl'})' don't exist, these are the only available Actions: generateimage: generateimage(chapter_content_and_character_details: 'string') -      Generates an image using Imagen for a given chapter content and character details.     \n",
    "\n",
    "# '''\n",
    "\n",
    "# generate_pro(input_prompt)"
   ]
  },
  {
   "cell_type": "code",
   "execution_count": null,
   "id": "aff1e532-c035-4d87-bab5-7c8532925fef",
   "metadata": {
    "tags": []
   },
   "outputs": [],
   "source": [
    "# generateimage(\"human female walking on road\")\n",
    "# image_url_name = str(uuid.uuid4())\n",
    "# filepath=os.path.join(os.getcwd(), \"images1/\")\n",
    "# image_url = filepath+image_url_name+\".png\"\n",
    "# print(image_url)\n",
    "\n",
    "# image_response = requests.get(image_url)\n",
    "# if image_response.status_code == 200:\n",
    "#     with open(filepath, 'wb') as file:\n",
    "#         file.write(image_response.content)\n",
    "# else:\n",
    "#     print(\"Failed to download the image.\")\n",
    "    # return \"\""
   ]
  },
  {
   "cell_type": "code",
   "execution_count": null,
   "id": "2b008be6-c607-47ca-afcc-4f95b2652905",
   "metadata": {
    "tags": []
   },
   "outputs": [],
   "source": [
    "# Instantiate tools\n",
    "file_read_tool = FileReadTool(\n",
    "\tfile_path='template.md',\n",
    "\tdescription='A tool to read the Story Template file and understand the expected output format.'\n",
    ")\n",
    "\n",
    "search_tool = DuckDuckGoSearchRun()\n",
    "\n",
    "\n",
    "@tool\n",
    "def convermarkdowntopdf(markdownfile_name: str) -> str:\n",
    "    \"\"\"\n",
    "    Converts a Markdown file to a PDF document using the mdpdf command line application.\n",
    "\n",
    "    Args:\n",
    "        markdownfile_name (str): Path to the input Markdown file.\n",
    "\n",
    "    Returns:\n",
    "        str: Path to the generated PDF file.\n",
    "    \"\"\"\n",
    "    output_file = os.path.splitext(markdownfile_name)[0] + '.pdf'\n",
    "    \n",
    "    # Command to convert markdown to PDF using mdpdf\n",
    "    cmd = ['mdpdf', '--output', output_file, markdownfile_name]\n",
    "    \n",
    "    # Execute the command\n",
    "    subprocess.run(cmd, check=True)\n",
    "    \n",
    "    return output_file\n",
    "\n",
    "story_outliner = Agent(\n",
    "  role='Story Outliner',\n",
    "  goal='Develop an outline for a children\\'s storybook about Animals, including chapter titles and characters for 5 chapters.',\n",
    "  backstory=\"An imaginative creator who lays the foundation of captivating stories for children.\",\n",
    "  verbose=True,\n",
    "  llm=llm,\n",
    "  allow_delegation=False\n",
    ")\n",
    "\n",
    "story_writer = Agent(\n",
    "  role='Story Writer',\n",
    "  goal='Write the full content of the story for all 5 chapters, each chapter 300 words, weaving together the narratives and characters outlined.',\n",
    "  backstory=\"A talented storyteller who brings to life the world and characters outlined, crafting engaging and imaginative tales for children.\",\n",
    "  verbose=True,\n",
    "  llm=llm,\n",
    "  allow_delegation=False\n",
    ")\n",
    "\n",
    "image_generator = Agent(\n",
    "  role='Image Generator',\n",
    "  goal='Generate one image per chapter content provided by the story outliner. Start with Chapter number, chapter content, character details, detailed location information and detailed items in the location where the activity happens. Generate totally 5 images one by one. Final output should contain all the 5 images in json format.',\n",
    "  backstory=\"A creative AI specialized in visual storytelling, bringing each chapter to life through imaginative imagery.\",\n",
    "  verbose=True,\n",
    "  llm=llm,\n",
    "  tools=[generateimage],\n",
    "  allow_delegation=False\n",
    ")\n",
    "\n",
    "content_formatter = Agent(\n",
    "    role='Content Formatter',\n",
    "    goal='Format the written story content in markdown, including images at the beginning of each chapter.',\n",
    "    backstory='A meticulous formatter who enhances the readability and presentation of the storybook.',\n",
    "    verbose=True,\n",
    "    llm=llm,\n",
    "    tools=[file_read_tool],\n",
    "    allow_delegation=False\n",
    ")\n",
    "\n",
    "markdown_to_pdf_creator = Agent(\n",
    "    role='PDF Converter',\n",
    "    goal='Convert the Markdown file to a PDF document. story.md is the markdown file name.',\n",
    "    backstory='An efficient converter that transforms Markdown files into professionally formatted PDF documents.',\n",
    "    verbose=True,\n",
    "    llm=llm,\n",
    "    tools=[convermarkdowntopdf],\n",
    "    allow_delegation=False\n",
    ")\n",
    "\n",
    "\n",
    "# Create tasks for the agents\n",
    "task_outline = Task(\n",
    "    description='Create an outline for the children\\'s storybook about Animals, detailing chapter titles and character descriptions for 5 chapters.',\n",
    "    agent=story_outliner,\n",
    "    expected_output='A structured outline document containing 5 chapter titles, with detailed character descriptions and the main plot points for each chapter.'\n",
    ")\n",
    "\n",
    "task_write = Task(\n",
    "    description='Using the outline provided, write the full story content for all chapters, ensuring a cohesive and engaging narrative for children. Each Chapter 100 words. Include Title of the story at the top.',\n",
    "    agent=story_writer,\n",
    "    expected_output='A complete manuscript of the children\\'s storybook about Animals with 5 chapters. Each chapter should contain approximately 100 words, following the provided outline and integrating the characters and plot points into a cohesive narrative.'\n",
    ")\n",
    "\n",
    "task_image_generate = Task(\n",
    "    description='Generate 5 images that captures the essence of the children\\'s storybook about Animals, aligning with the themes, characters, and narrative outlined for the chapters. Do it one by one.',\n",
    "    agent=image_generator,\n",
    "    expected_output='A digital image file that visually represents the overarching theme of the children\\'s storybook, incorporating elements from the characters and plot as described in the outline. The image should be suitable for inclusion in the storybook as an illustration.',\n",
    ")\n",
    "\n",
    "task_format_content = Task(\n",
    "    description='Format the story content in markdown, including an image at the beginning of each chapter.',\n",
    "    agent=content_formatter,\n",
    "    expected_output='The entire storybook content formatted in markdown, with each chapter title followed by the corresponding image and the chapter content.',\n",
    "    context=[task_write, task_image_generate],\n",
    "    output_file=\"story.md\"\n",
    ")\n",
    "\n",
    "task_markdown_to_pdf = Task(\n",
    "    description='Convert a Markdown file to a PDF document, ensuring the preservation of formatting, structure, and embedded images using the mdpdf library.',\n",
    "    agent=markdown_to_pdf_creator,\n",
    "    expected_output='A PDF file generated from the Markdown input, accurately reflecting the content with proper formatting. The PDF should be ready for sharing or printing.'\n",
    ")\n",
    "\n",
    "crew = Crew(\n",
    "  agents=[story_outliner, story_writer, image_generator, content_formatter, markdown_to_pdf_creator],\n",
    "  tasks=[task_outline, task_write, task_image_generate, task_format_content, task_markdown_to_pdf],\n",
    "  verbose=True,\n",
    "  process=Process.sequential\n",
    ")\n",
    "\n",
    "result = crew.kickoff()\n",
    "\n",
    "print(result)\n"
   ]
  },
  {
   "cell_type": "code",
   "execution_count": null,
   "id": "b87ef94b-f444-4459-aa55-82090ffc91a1",
   "metadata": {},
   "outputs": [],
   "source": []
  },
  {
   "cell_type": "code",
   "execution_count": null,
   "id": "36760177-608c-419d-9253-04e2933d7240",
   "metadata": {},
   "outputs": [],
   "source": []
  }
 ],
 "metadata": {
  "environment": {
   "kernel": "conda-env-pytorch-pytorch",
   "name": "workbench-notebooks.m125",
   "type": "gcloud",
   "uri": "us-docker.pkg.dev/deeplearning-platform-release/gcr.io/workbench-notebooks:m125"
  },
  "kernelspec": {
   "display_name": "PyTorch 1-13 (Local)",
   "language": "python",
   "name": "conda-env-pytorch-pytorch"
  },
  "language_info": {
   "codemirror_mode": {
    "name": "ipython",
    "version": 3
   },
   "file_extension": ".py",
   "mimetype": "text/x-python",
   "name": "python",
   "nbconvert_exporter": "python",
   "pygments_lexer": "ipython3",
   "version": "3.10.15"
  }
 },
 "nbformat": 4,
 "nbformat_minor": 5
}
